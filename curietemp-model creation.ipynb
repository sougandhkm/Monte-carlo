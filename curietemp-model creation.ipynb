{
 "cells": [
  {
   "cell_type": "code",
   "execution_count": null,
   "metadata": {},
   "outputs": [],
   "source": [
    "#importing libraries for data creation\n",
    "import random\n",
    "import numpy as np\n",
    "import matplotlib.pyplot as plt\n",
    "import math\n",
    "import pickle as pk\n",
    "import numba as nb"
   ]
  },
  {
   "cell_type": "code",
   "execution_count": null,
   "metadata": {},
   "outputs": [],
   "source": [
    "#Random lattice creation\n",
    "def latticecreate(n):\n",
    "    lattice = np.random.choice(a=[-1,1],size=(n,n))\n",
    "    return lattice"
   ]
  },
  {
   "cell_type": "code",
   "execution_count": null,
   "metadata": {},
   "outputs": [],
   "source": [
    "#metropolis algorithm\n",
    "@nb.jit\n",
    "def calculateenergy(lattice,n,j,T):\n",
    "    T=float(T)\n",
    "    mag=0\n",
    "    mo=0\n",
    "    meg=0\n",
    "    for k in range (0,1000):\n",
    "        for l in range (0,100):\n",
    "            x=np.random.randint(0,n)\n",
    "            y=np.random.randint(0,n)\n",
    "            \n",
    "            nb = lattice[(x+1)%n,y] + lattice[x,(y+1)%n] + lattice[(x-1)%n,y] + lattice[x,(y-1)%n]\n",
    "            \n",
    "            deltaE=lattice[x,y]*2*nb*j\n",
    "            p=random.uniform(0,1)\n",
    "            if deltaE<0:\n",
    "                lattice[x,y]=lattice[x,y]*(-1)\n",
    "                mag1=magnetisation(lattice,n)\n",
    "                meg=meg+mag1**2\n",
    "                mag=mag+mag1**4\n",
    "            else:\n",
    "                r=math.exp((-deltaE)/(T))\n",
    "                if p<r:\n",
    "                    lattice[x,y]=lattice[x,y]*(-1)\n",
    "                    meg=meg+mag1**2\n",
    "                    mag=mag+mag1**4\n",
    "                else:\n",
    "                    lattice[x,y]=lattice[x,y]\n",
    "                    mag1=magnetisation(lattice,n)\n",
    "                    meg=meg+mag1**2\n",
    "                    mag=mag+mag1**4\n",
    "            mo=mo+1\n",
    "            \n",
    "       \n",
    "    meg=(meg/mo)*3\n",
    "    mag=(mag/mo)\n",
    "            \n",
    "    return (1-(mag/(meg**2)))"
   ]
  },
  {
   "cell_type": "code",
   "execution_count": null,
   "metadata": {},
   "outputs": [],
   "source": [
    "#magntisation calculation function\n",
    "@nb.jit(nopython=True)\n",
    "def magnetisation(lattice,n):\n",
    "    mag1=0\n",
    "    for i in range(0,n):\n",
    "        for j in range(0,n):\n",
    "            mag1=mag1+(lattice[i,j])\n",
    "            \n",
    "    return (mag1/(n**2))"
   ]
  },
  {
   "cell_type": "code",
   "execution_count": null,
   "metadata": {},
   "outputs": [],
   "source": [
    "def maglist(n,T,j):\n",
    "    lattice1=latticecreate(n)\n",
    "    cur=calculateenergy(lattice1,n,j,T)\n",
    "    return cur"
   ]
  },
  {
   "cell_type": "code",
   "execution_count": null,
   "metadata": {},
   "outputs": [],
   "source": [
    "#the function cullects and apends binders cumulant values corresponding to temperature and latttice no.\n",
    "def curietemp(j):\n",
    "    cur_y=[]\n",
    "    Temp_x=[]\n",
    "    nlist_x=[]\n",
    "    n=5\n",
    "    while n<60:\n",
    "        cur=[]\n",
    "        Temp=[]\n",
    "        nlist=[]\n",
    "        T=0.2\n",
    "        while T<5.1:\n",
    "            if T<2:\n",
    "                cur.append(maglist(n,T,j))\n",
    "                Temp.append(T)\n",
    "                T=T+0.02\n",
    "            elif 2<T<3:\n",
    "                cur.append(maglist(n,T,j))\n",
    "                Temp.append(T)\n",
    "                T=T+0.001\n",
    "            else:\n",
    "                cur.append(maglist(n,T,j))\n",
    "                Temp.append(T)\n",
    "                T=T+0.1\n",
    "            \n",
    "            nlist.append(n)\n",
    "        cur_y=cur_y+cur\n",
    "        nlist_x=nlist_x+nlist\n",
    "        Temp_x=Temp_x+Temp\n",
    "        n=n+2\n",
    "    return cur_y,Temp_x,nlist_x"
   ]
  },
  {
   "cell_type": "code",
   "execution_count": null,
   "metadata": {},
   "outputs": [],
   "source": [
    "j=1\n",
    "Train_y,Train_x1,Train_x2=curietemp(j)"
   ]
  },
  {
   "cell_type": "code",
   "execution_count": null,
   "metadata": {},
   "outputs": [],
   "source": [
    "#data reshaping \n",
    "Train_X=np.array([[Train_x1],[Train_x2]])\n",
    "Train_Y=np.array([[Train_y]])\n",
    "Train_Y=Train_Y.reshape(1,len(Train_x1))\n",
    "Train_X=Train_X.reshape(2,len(Train_x1))\n",
    "Train_X=np.transpose(Train_X)\n",
    "Train_Y=np.transpose(Train_Y)"
   ]
  },
  {
   "cell_type": "code",
   "execution_count": null,
   "metadata": {},
   "outputs": [],
   "source": [
    "#importing libraries for training model\n",
    "from sklearn.model_selection import train_test_split\n",
    "from sklearn.model_selection import cross_val_score\n",
    "from sklearn.model_selection import KFold\n",
    "from sklearn.pipeline import Pipeline\n",
    "from sklearn.preprocessing import MinMaxScaler\n",
    "from keras.models import Sequential\n",
    "from keras.layers import Dense,Flatten,PReLU,Dropout,LeakyReLU,LSTM\n",
    "from keras.optimizers import Adam\n",
    "from keras.wrappers.scikit_learn import KerasRegressor"
   ]
  },
  {
   "cell_type": "code",
   "execution_count": null,
   "metadata": {},
   "outputs": [],
   "source": [
    "#Defing model with ,3 dense layers and one dropout layer to avoid over fitting\n",
    "model = Sequential()                                               #model creation and addition of layers\n",
    "model.add(Dense(1100, input_dim=2, kernel_initializer='normal', activation='relu'))\n",
    "model.add(Dense(1000, activation='relu'))\n",
    "model.add(Dropout(0.2))\n",
    "model.add(Dense(100, activation='relu'))\n",
    "model.add(Dense(1, activation='linear'))\n",
    "model.summary()"
   ]
  },
  {
   "cell_type": "code",
   "execution_count": null,
   "metadata": {},
   "outputs": [],
   "source": [
    "#compiling model\n",
    "model.compile(loss='mse', optimizer='adam', metrics=['mse','mae'])"
   ]
  },
  {
   "cell_type": "code",
   "execution_count": null,
   "metadata": {
    "scrolled": true
   },
   "outputs": [],
   "source": [
    "#Training the model\n",
    "history = model.fit(Train_X, Train_Y, epochs=50, batch_size=100,  verbose=1, validation_split=0.1)"
   ]
  },
  {
   "cell_type": "code",
   "execution_count": null,
   "metadata": {},
   "outputs": [],
   "source": [
    "print(history.history.keys())\n",
    "# \"Loss\"\n",
    "plt.plot(history.history['loss'])\n",
    "plt.plot(history.history['val_loss'])\n",
    "plt.title('model loss')\n",
    "plt.ylabel('loss')\n",
    "plt.xlabel('epoch')\n",
    "plt.legend(['train', 'validation'], loc='upper left')\n",
    "plt.show()"
   ]
  },
  {
   "cell_type": "code",
   "execution_count": null,
   "metadata": {},
   "outputs": [],
   "source": [
    "#saving the model for future prediction\n",
    "model.save('Filename.h5')"
   ]
  },
  {
   "cell_type": "code",
   "execution_count": null,
   "metadata": {},
   "outputs": [],
   "source": []
  }
 ],
 "metadata": {
  "kernelspec": {
   "display_name": "Python 3",
   "language": "python",
   "name": "python3"
  },
  "language_info": {
   "codemirror_mode": {
    "name": "ipython",
    "version": 3
   },
   "file_extension": ".py",
   "mimetype": "text/x-python",
   "name": "python",
   "nbconvert_exporter": "python",
   "pygments_lexer": "ipython3",
   "version": "3.6.8"
  }
 },
 "nbformat": 4,
 "nbformat_minor": 2
}
