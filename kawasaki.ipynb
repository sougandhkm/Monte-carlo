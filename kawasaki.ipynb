{
 "cells": [
  {
   "cell_type": "raw",
   "metadata": {},
   "source": [
    "The Kawasaki Algorithm ensures the magnetisation of the Lattice remains constatnt\n",
    "But this effectively increase the computing time and The no. of iterations needed."
   ]
  },
  {
   "cell_type": "code",
   "execution_count": 1,
   "metadata": {},
   "outputs": [],
   "source": [
    "import random\n",
    "import numpy as np\n",
    "import matplotlib.pyplot as plt\n",
    "import matplotlib.animation as anim\n",
    "import math\n",
    "import imageio\n",
    "from PIL import Image, ImageDraw, ImageFont"
   ]
  },
  {
   "cell_type": "code",
   "execution_count": 2,
   "metadata": {},
   "outputs": [],
   "source": [
    "T=1\n",
    "j=1\n",
    "n=50"
   ]
  },
  {
   "cell_type": "code",
   "execution_count": 3,
   "metadata": {},
   "outputs": [],
   "source": [
    "def latticecreate(n):\n",
    "    lattice = np.random.choice(a=[-1,1],size=(n,n))\n",
    "    return lattice"
   ]
  },
  {
   "cell_type": "code",
   "execution_count": 4,
   "metadata": {},
   "outputs": [],
   "source": [
    "def calculateenergy(lattice,n,j,T):\n",
    "    font = ImageFont.truetype('Pillow/Tests/fonts/FreeMono.ttf', 12)\n",
    "    image=[]\n",
    "    l=0\n",
    "    la=0\n",
    "    for k in range (0,n*20):\n",
    "        for l in range (0,n*20):\n",
    "            x=np.random.randint(0,n)\n",
    "            y=np.random.randint(0,n)\n",
    "            x1=np.random.randint(0,n)\n",
    "            y1=np.random.randint(0,n)\n",
    "            if lattice[x,y]==lattice[x1,y1]:\n",
    "                continue\n",
    "            \n",
    "            else:\n",
    "                nb = lattice[(x+1)%n,y] + lattice[x,(y+1)%n] + lattice[(x-1)%n,y] + lattice[x,(y-1)%n]\n",
    "                nb1 = lattice[(x1+1)%n,y1] + lattice[x1,(y1+1)%n] + lattice[(x1-1)%n,y1] + lattice[x1,(y1-1)%n]\n",
    "                deltaE=lattice[x,y]*2*nb*j\n",
    "                deltaE1=lattice[x1,y1]*2*nb1*j\n",
    "                p=random.uniform(0,1)\n",
    "                p1=random.uniform(0,1)\n",
    "                if deltaE<0 and deltaE1<0:\n",
    "                    lattice[x,y]=lattice[x,y]*(-1)\n",
    "                    lattice[x1,y1]=lattice[x1,y1]*(-1)\n",
    "\n",
    "\n",
    "                else:\n",
    "                    r=math.exp((-deltaE)/(T))\n",
    "                    r1=math.exp((-deltaE1)/(T))\n",
    "                    if p<r and p1<r:\n",
    "                        lattice[x,y]=lattice[x,y]*(-1)\n",
    "                        lattice[x1,y1]=lattice[x1,y1]*(-1)\n",
    "                    else:\n",
    "                        lattice[x,y]=lattice[x,y]\n",
    "                        lattice[x1,y1]=lattice[x1,y1]\n",
    "                la=la+1\n",
    "        if l>10:\n",
    "            lu=str(la)\n",
    "            im=Image.fromarray(lattice.astype('uint8')).convert('RGBA')\n",
    "            draw = ImageDraw.Draw(im)\n",
    "            draw.text((0,0), lu,font=font,fill=(255,0,0,255))\n",
    "            image.append(im)\n",
    "            l=0\n",
    "        l=l+1 \n",
    "    print(\"Total no of iterations is\",la)\n",
    "    return lattice,image\n",
    "                "
   ]
  },
  {
   "cell_type": "code",
   "execution_count": 5,
   "metadata": {},
   "outputs": [],
   "source": [
    "def calceenergy(config,N):\n",
    "    '''Energy of a given configuration'''\n",
    "    energy = 0\n",
    "    for i in range(len(config)):\n",
    "        for j in range(len(config)):\n",
    "            S = config[i,j]\n",
    "            nb = config[(i+1)%N, j] + config[i,(j+1)%N] + config[(i-1)%N, j] + config[i,(j-1)%N]\n",
    "            energy += -nb*S\n",
    "    return energy/4"
   ]
  },
  {
   "cell_type": "code",
   "execution_count": 6,
   "metadata": {},
   "outputs": [],
   "source": [
    "def magnetisation(lattice,n):\n",
    "    mag=0\n",
    "    for i in range(0,n):\n",
    "        for j in range(0,n):\n",
    "            mag=mag+lattice[i,j]\n",
    "    return mag"
   ]
  },
  {
   "cell_type": "code",
   "execution_count": 7,
   "metadata": {
    "scrolled": true
   },
   "outputs": [
    {
     "name": "stdout",
     "output_type": "stream",
     "text": [
      "Initial magnetisation -14\n"
     ]
    },
    {
     "data": {
      "image/png": "[encoded data removed]",
      "text/plain": [
       "<Figure size 432x288 with 1 Axes>"
      ]
     },
     "metadata": {
      "needs_background": "light"
     },
     "output_type": "display_data"
    },
    {
     "name": "stdout",
     "output_type": "stream",
     "text": [
      "Total no of iterations is 499352\n",
      "Final magentisation -14\n"
     ]
    },
    {
     "data": {
      "image/png": "[encoded data removed]",
      "text/plain": [
       "<Figure size 432x288 with 1 Axes>"
      ]
     },
     "metadata": {
      "needs_background": "light"
     },
     "output_type": "display_data"
    },
    {
     "name": "stdout",
     "output_type": "stream",
     "text": [
      "Total energy -550.0\n"
     ]
    }
   ],
   "source": [
    "lattice=latticecreate(n)\n",
    "print(\"Initial magnetisation\",magnetisation(lattice,n))\n",
    "plt.imshow(lattice, cmap=\"gray\")\n",
    "plt.show()\n",
    "newlattice,image=calculateenergy(lattice,n,j,T)\n",
    "print(\"Final magentisation\",magnetisation(newlattice,n))\n",
    "plt.imshow(newlattice, cmap=\"gray\")\n",
    "plt.show()\n",
    "ef=calceenergy(newlattice,n)\n",
    "print(\"Total energy\",ef)"
   ]
  },
  {
   "cell_type": "code",
   "execution_count": null,
   "metadata": {},
   "outputs": [],
   "source": []
  }
 ],
 "metadata": {
  "kernelspec": {
   "display_name": "Python 3",
   "language": "python",
   "name": "python3"
  },
  "language_info": {
   "codemirror_mode": {
    "name": "ipython",
    "version": 3
   },
   "file_extension": ".py",
   "mimetype": "text/x-python",
   "name": "python",
   "nbconvert_exporter": "python",
   "pygments_lexer": "ipython3",
   "version": "3.6.8"
  }
 },
 "nbformat": 4,
 "nbformat_minor": 2
}
