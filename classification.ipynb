{
 "cells": [
  {
   "cell_type": "code",
   "execution_count": 149,
   "metadata": {},
   "outputs": [],
   "source": [
    "#mporting essential libraries\n",
    "from keras.models import Sequential\n",
    "from keras.layers import Convolution2D\n",
    "from keras.layers import MaxPooling2D\n",
    "from keras.layers import Flatten\n",
    "from keras.layers import Dense\n",
    "import numpy as np\n",
    "import pickle\n",
    "import matplotlib.pyplot as plt"
   ]
  },
  {
   "cell_type": "code",
   "execution_count": 127,
   "metadata": {},
   "outputs": [],
   "source": [
    "#Training data and test data\n",
    "Train_X=pickle.load(open('classificationX4','rb'))\n",
    "Train_Y=pickle.load(open('classificationY4','rb'))\n",
    "Test_X=pickle.load(open('classificationTest3','rb'))\n",
    "X=pickle.load(open('classificationTestx3','rb'))\n"
   ]
  },
  {
   "cell_type": "code",
   "execution_count": 128,
   "metadata": {},
   "outputs": [],
   "source": [
    "#Reshaping training and test data\n",
    "Train_X=np.expand_dims(Train_X, axis=-1)\n",
    "Test_X=np.expand_dims(Test_X, axis=-1)"
   ]
  },
  {
   "cell_type": "code",
   "execution_count": 116,
   "metadata": {
    "collapsed": true
   },
   "outputs": [
    {
     "name": "stdout",
     "output_type": "stream",
     "text": [
      "_________________________________________________________________\n",
      "Layer (type)                 Output Shape              Param #   \n",
      "=================================================================\n",
      "conv2d_9 (Conv2D)            (None, 48, 48, 64)        640       \n",
      "_________________________________________________________________\n",
      "max_pooling2d_9 (MaxPooling2 (None, 24, 24, 64)        0         \n",
      "_________________________________________________________________\n",
      "flatten_8 (Flatten)          (None, 36864)             0         \n",
      "_________________________________________________________________\n",
      "dense_15 (Dense)             (None, 100)               3686500   \n",
      "_________________________________________________________________\n",
      "dense_16 (Dense)             (None, 1)                 101       \n",
      "=================================================================\n",
      "Total params: 3,687,241\n",
      "Trainable params: 3,687,241\n",
      "Non-trainable params: 0\n",
      "_________________________________________________________________\n"
     ]
    },
    {
     "name": "stderr",
     "output_type": "stream",
     "text": [
      "G:\\anaconda\\envs\\tensorflow_env\\lib\\site-packages\\ipykernel_launcher.py:2: UserWarning: Update your `Conv2D` call to the Keras 2 API: `Conv2D(64, (3, 3), input_shape=(50, 50, 1..., activation=\"relu\")`\n",
      "  \n",
      "G:\\anaconda\\envs\\tensorflow_env\\lib\\site-packages\\ipykernel_launcher.py:5: UserWarning: Update your `Dense` call to the Keras 2 API: `Dense(activation=\"relu\", units=100)`\n",
      "  \"\"\"\n",
      "G:\\anaconda\\envs\\tensorflow_env\\lib\\site-packages\\ipykernel_launcher.py:6: UserWarning: Update your `Dense` call to the Keras 2 API: `Dense(activation=\"sigmoid\", units=1)`\n",
      "  \n"
     ]
    }
   ],
   "source": [
    "#Classifier model---The input is 50x50 matrix output is probability\n",
    "Classifier = Sequential()\n",
    "Classifier.add(Convolution2D(64,3,3,input_shape = (50,50,1),activation = 'relu'))\n",
    "Classifier.add(MaxPooling2D(pool_size = (2,2)))\n",
    "Classifier.add(Flatten())\n",
    "Classifier.add(Dense(output_dim=100,activation = 'relu'))\n",
    "Classifier.add(Dense(output_dim=1,activation = 'sigmoid'))\n",
    "Classifier.compile(optimizer = 'adam',loss = 'binary_crossentropy',metrics=['accuracy'])\n",
    "Classifier.summary()"
   ]
  },
  {
   "cell_type": "code",
   "execution_count": 145,
   "metadata": {
    "collapsed": true
   },
   "outputs": [
    {
     "name": "stdout",
     "output_type": "stream",
     "text": [
      "Train on 102 samples, validate on 12 samples\n",
      "Epoch 1/100\n",
      "102/102 [==============================] - 0s 2ms/step - loss: 0.0681 - acc: 0.9020 - val_loss: 3.6538e-04 - val_acc: 1.0000\n",
      "Epoch 2/100\n",
      "102/102 [==============================] - 0s 2ms/step - loss: 0.0681 - acc: 0.9020 - val_loss: 3.6813e-04 - val_acc: 1.0000\n",
      "Epoch 3/100\n",
      "102/102 [==============================] - 0s 2ms/step - loss: 0.0681 - acc: 0.9020 - val_loss: 3.4266e-04 - val_acc: 1.0000\n",
      "Epoch 4/100\n",
      "102/102 [==============================] - 0s 2ms/step - loss: 0.0681 - acc: 0.9020 - val_loss: 3.5588e-04 - val_acc: 1.0000\n",
      "Epoch 5/100\n",
      "102/102 [==============================] - 0s 2ms/step - loss: 0.0681 - acc: 0.9020 - val_loss: 3.5750e-04 - val_acc: 1.0000\n",
      "Epoch 6/100\n",
      "102/102 [==============================] - 0s 2ms/step - loss: 0.0681 - acc: 0.9020 - val_loss: 3.3838e-04 - val_acc: 1.0000\n",
      "Epoch 7/100\n",
      "102/102 [==============================] - 0s 2ms/step - loss: 0.0681 - acc: 0.9020 - val_loss: 3.4097e-04 - val_acc: 1.0000\n",
      "Epoch 8/100\n",
      "102/102 [==============================] - 0s 2ms/step - loss: 0.0680 - acc: 0.9020 - val_loss: 3.3365e-04 - val_acc: 1.0000\n",
      "Epoch 9/100\n",
      "102/102 [==============================] - 0s 2ms/step - loss: 0.0681 - acc: 0.9020 - val_loss: 3.3231e-04 - val_acc: 1.0000\n",
      "Epoch 10/100\n",
      "102/102 [==============================] - 0s 2ms/step - loss: 0.0682 - acc: 0.9020 - val_loss: 3.1971e-04 - val_acc: 1.0000\n",
      "Epoch 11/100\n",
      "102/102 [==============================] - 0s 2ms/step - loss: 0.0681 - acc: 0.9020 - val_loss: 2.9755e-04 - val_acc: 1.0000\n",
      "Epoch 12/100\n",
      "102/102 [==============================] - 0s 2ms/step - loss: 0.0681 - acc: 0.9020 - val_loss: 3.5915e-04 - val_acc: 1.0000\n",
      "Epoch 13/100\n",
      "102/102 [==============================] - 0s 2ms/step - loss: 0.0681 - acc: 0.9020 - val_loss: 2.9510e-04 - val_acc: 1.0000\n",
      "Epoch 14/100\n",
      "102/102 [==============================] - 0s 2ms/step - loss: 0.0681 - acc: 0.9020 - val_loss: 3.2339e-04 - val_acc: 1.0000\n",
      "Epoch 15/100\n",
      "102/102 [==============================] - 0s 2ms/step - loss: 0.0681 - acc: 0.9020 - val_loss: 3.4809e-04 - val_acc: 1.0000\n",
      "Epoch 16/100\n",
      "102/102 [==============================] - 0s 2ms/step - loss: 0.0681 - acc: 0.9020 - val_loss: 2.5521e-04 - val_acc: 1.0000\n",
      "Epoch 17/100\n",
      "102/102 [==============================] - 0s 2ms/step - loss: 0.0684 - acc: 0.9020 - val_loss: 3.6724e-04 - val_acc: 1.0000\n",
      "Epoch 18/100\n",
      "102/102 [==============================] - 0s 2ms/step - loss: 0.0684 - acc: 0.9020 - val_loss: 2.4465e-04 - val_acc: 1.0000\n",
      "Epoch 19/100\n",
      "102/102 [==============================] - 0s 2ms/step - loss: 0.0684 - acc: 0.9020 - val_loss: 3.4443e-04 - val_acc: 1.0000\n",
      "Epoch 20/100\n",
      "102/102 [==============================] - 0s 2ms/step - loss: 0.0687 - acc: 0.9020 - val_loss: 2.9866e-04 - val_acc: 1.0000\n",
      "Epoch 21/100\n",
      "102/102 [==============================] - 0s 2ms/step - loss: 0.0685 - acc: 0.9020 - val_loss: 2.8850e-04 - val_acc: 1.0000\n",
      "Epoch 22/100\n",
      "102/102 [==============================] - 0s 2ms/step - loss: 0.0681 - acc: 0.9020 - val_loss: 4.3273e-04 - val_acc: 1.0000\n",
      "Epoch 23/100\n",
      "102/102 [==============================] - 0s 2ms/step - loss: 0.0684 - acc: 0.9020 - val_loss: 2.4610e-04 - val_acc: 1.0000\n",
      "Epoch 24/100\n",
      "102/102 [==============================] - 0s 2ms/step - loss: 0.0684 - acc: 0.9020 - val_loss: 3.4735e-04 - val_acc: 1.0000\n",
      "Epoch 25/100\n",
      "102/102 [==============================] - 0s 2ms/step - loss: 0.0681 - acc: 0.9020 - val_loss: 3.2398e-04 - val_acc: 1.0000\n",
      "Epoch 26/100\n",
      "102/102 [==============================] - 0s 2ms/step - loss: 0.0681 - acc: 0.9020 - val_loss: 3.0730e-04 - val_acc: 1.0000\n",
      "Epoch 27/100\n",
      "102/102 [==============================] - 0s 2ms/step - loss: 0.0681 - acc: 0.9020 - val_loss: 3.2250e-04 - val_acc: 1.0000\n",
      "Epoch 28/100\n",
      "102/102 [==============================] - 0s 2ms/step - loss: 0.0681 - acc: 0.9020 - val_loss: 2.8986e-04 - val_acc: 1.0000\n",
      "Epoch 29/100\n",
      "102/102 [==============================] - 0s 2ms/step - loss: 0.0681 - acc: 0.9020 - val_loss: 3.2477e-04 - val_acc: 1.0000\n",
      "Epoch 30/100\n",
      "102/102 [==============================] - 0s 2ms/step - loss: 0.0681 - acc: 0.9020 - val_loss: 2.8011e-04 - val_acc: 1.0000\n",
      "Epoch 31/100\n",
      "102/102 [==============================] - 0s 2ms/step - loss: 0.0681 - acc: 0.9020 - val_loss: 2.6791e-04 - val_acc: 1.0000\n",
      "Epoch 32/100\n",
      "102/102 [==============================] - 0s 2ms/step - loss: 0.0684 - acc: 0.9020 - val_loss: 2.7853e-04 - val_acc: 1.0000\n",
      "Epoch 33/100\n",
      "102/102 [==============================] - 0s 2ms/step - loss: 0.0683 - acc: 0.9020 - val_loss: 3.1522e-04 - val_acc: 1.0000\n",
      "Epoch 34/100\n",
      "102/102 [==============================] - 0s 2ms/step - loss: 0.0683 - acc: 0.9020 - val_loss: 2.3391e-04 - val_acc: 1.0000\n",
      "Epoch 35/100\n",
      "102/102 [==============================] - 0s 2ms/step - loss: 0.0684 - acc: 0.9020 - val_loss: 2.8502e-04 - val_acc: 1.0000\n",
      "Epoch 36/100\n",
      "102/102 [==============================] - 0s 2ms/step - loss: 0.0685 - acc: 0.9020 - val_loss: 2.4444e-04 - val_acc: 1.0000\n",
      "Epoch 37/100\n",
      "102/102 [==============================] - 0s 2ms/step - loss: 0.0684 - acc: 0.9020 - val_loss: 2.6312e-04 - val_acc: 1.0000\n",
      "Epoch 38/100\n",
      "102/102 [==============================] - 0s 2ms/step - loss: 0.0682 - acc: 0.9020 - val_loss: 2.7088e-04 - val_acc: 1.0000\n",
      "Epoch 39/100\n",
      "102/102 [==============================] - 0s 2ms/step - loss: 0.0680 - acc: 0.9020 - val_loss: 2.3929e-04 - val_acc: 1.0000\n",
      "Epoch 40/100\n",
      "102/102 [==============================] - 0s 2ms/step - loss: 0.0681 - acc: 0.9020 - val_loss: 2.6110e-04 - val_acc: 1.0000\n",
      "Epoch 41/100\n",
      "102/102 [==============================] - 0s 2ms/step - loss: 0.0681 - acc: 0.9020 - val_loss: 2.4445e-04 - val_acc: 1.0000\n",
      "Epoch 42/100\n",
      "102/102 [==============================] - 0s 2ms/step - loss: 0.0681 - acc: 0.9020 - val_loss: 2.4590e-04 - val_acc: 1.0000\n",
      "Epoch 43/100\n",
      "102/102 [==============================] - 0s 2ms/step - loss: 0.0680 - acc: 0.9020 - val_loss: 2.3856e-04 - val_acc: 1.0000\n",
      "Epoch 44/100\n",
      "102/102 [==============================] - 0s 2ms/step - loss: 0.0680 - acc: 0.9020 - val_loss: 2.3809e-04 - val_acc: 1.0000\n",
      "Epoch 45/100\n",
      "102/102 [==============================] - 0s 2ms/step - loss: 0.0681 - acc: 0.9020 - val_loss: 2.1790e-04 - val_acc: 1.0000\n",
      "Epoch 46/100\n",
      "102/102 [==============================] - 0s 2ms/step - loss: 0.0681 - acc: 0.9020 - val_loss: 2.4047e-04 - val_acc: 1.0000\n",
      "Epoch 47/100\n",
      "102/102 [==============================] - 0s 2ms/step - loss: 0.0681 - acc: 0.9020 - val_loss: 2.0856e-04 - val_acc: 1.0000\n",
      "Epoch 48/100\n",
      "102/102 [==============================] - 0s 2ms/step - loss: 0.0681 - acc: 0.9020 - val_loss: 2.3816e-04 - val_acc: 1.0000\n",
      "Epoch 49/100\n",
      "102/102 [==============================] - 0s 2ms/step - loss: 0.0681 - acc: 0.9020 - val_loss: 1.9691e-04 - val_acc: 1.0000\n",
      "Epoch 50/100\n",
      "102/102 [==============================] - 0s 2ms/step - loss: 0.0681 - acc: 0.9020 - val_loss: 2.2404e-04 - val_acc: 1.0000\n",
      "Epoch 51/100\n",
      "102/102 [==============================] - 0s 2ms/step - loss: 0.0681 - acc: 0.9020 - val_loss: 1.9985e-04 - val_acc: 1.0000\n",
      "Epoch 52/100\n",
      "102/102 [==============================] - 0s 2ms/step - loss: 0.0681 - acc: 0.9020 - val_loss: 2.2275e-04 - val_acc: 1.0000\n",
      "Epoch 53/100\n",
      "102/102 [==============================] - 0s 2ms/step - loss: 0.0682 - acc: 0.9020 - val_loss: 1.6731e-04 - val_acc: 1.0000\n",
      "Epoch 54/100\n",
      "102/102 [==============================] - 0s 2ms/step - loss: 0.0687 - acc: 0.9020 - val_loss: 2.3436e-04 - val_acc: 1.0000\n",
      "Epoch 55/100\n",
      "102/102 [==============================] - 0s 2ms/step - loss: 0.0686 - acc: 0.9020 - val_loss: 1.8662e-04 - val_acc: 1.0000\n",
      "Epoch 56/100\n",
      "102/102 [==============================] - 0s 2ms/step - loss: 0.0683 - acc: 0.9020 - val_loss: 1.8230e-04 - val_acc: 1.0000\n",
      "Epoch 57/100\n",
      "102/102 [==============================] - 0s 2ms/step - loss: 0.0681 - acc: 0.9020 - val_loss: 2.0546e-04 - val_acc: 1.0000\n",
      "Epoch 58/100\n",
      "102/102 [==============================] - 0s 2ms/step - loss: 0.0682 - acc: 0.9020 - val_loss: 2.3224e-04 - val_acc: 1.0000\n",
      "Epoch 59/100\n",
      "102/102 [==============================] - 0s 2ms/step - loss: 0.0692 - acc: 0.9020 - val_loss: 1.6893e-04 - val_acc: 1.0000\n",
      "Epoch 60/100\n"
     ]
    },
    {
     "name": "stdout",
     "output_type": "stream",
     "text": [
      "102/102 [==============================] - 0s 2ms/step - loss: 0.0688 - acc: 0.9020 - val_loss: 2.5773e-04 - val_acc: 1.0000\n",
      "Epoch 61/100\n",
      "102/102 [==============================] - 0s 2ms/step - loss: 0.0696 - acc: 0.9020 - val_loss: 2.7815e-04 - val_acc: 1.0000\n",
      "Epoch 62/100\n",
      "102/102 [==============================] - 0s 2ms/step - loss: 0.0699 - acc: 0.9020 - val_loss: 1.6497e-04 - val_acc: 1.0000\n",
      "Epoch 63/100\n",
      "102/102 [==============================] - 0s 2ms/step - loss: 0.0695 - acc: 0.9020 - val_loss: 3.2720e-04 - val_acc: 1.0000\n",
      "Epoch 64/100\n",
      "102/102 [==============================] - 0s 2ms/step - loss: 0.0710 - acc: 0.9020 - val_loss: 1.3835e-04 - val_acc: 1.0000\n",
      "Epoch 65/100\n",
      "102/102 [==============================] - 0s 2ms/step - loss: 0.0703 - acc: 0.9020 - val_loss: 3.3466e-04 - val_acc: 1.0000\n",
      "Epoch 66/100\n",
      "102/102 [==============================] - 0s 2ms/step - loss: 0.0755 - acc: 0.9020 - val_loss: 1.4933e-04 - val_acc: 1.0000\n",
      "Epoch 67/100\n",
      "102/102 [==============================] - 0s 2ms/step - loss: 0.0798 - acc: 0.9020 - val_loss: 3.5513e-04 - val_acc: 1.0000\n",
      "Epoch 68/100\n",
      "102/102 [==============================] - 0s 2ms/step - loss: 0.0773 - acc: 0.9020 - val_loss: 5.9953e-04 - val_acc: 1.0000\n",
      "Epoch 69/100\n",
      "102/102 [==============================] - 0s 2ms/step - loss: 0.0704 - acc: 0.9020 - val_loss: 1.1655e-04 - val_acc: 1.0000\n",
      "Epoch 70/100\n",
      "102/102 [==============================] - 0s 2ms/step - loss: 0.0748 - acc: 0.9020 - val_loss: 0.0016 - val_acc: 1.0000\n",
      "Epoch 71/100\n",
      "102/102 [==============================] - 0s 2ms/step - loss: 0.0894 - acc: 0.9020 - val_loss: 1.1849e-04 - val_acc: 1.0000\n",
      "Epoch 72/100\n",
      "102/102 [==============================] - 0s 2ms/step - loss: 0.0960 - acc: 0.9020 - val_loss: 8.2037e-05 - val_acc: 1.0000\n",
      "Epoch 73/100\n",
      "102/102 [==============================] - 0s 2ms/step - loss: 0.0784 - acc: 0.9020 - val_loss: 0.0039 - val_acc: 1.0000\n",
      "Epoch 74/100\n",
      "102/102 [==============================] - 0s 2ms/step - loss: 0.1012 - acc: 0.9020 - val_loss: 5.8487e-05 - val_acc: 1.0000\n",
      "Epoch 75/100\n",
      "102/102 [==============================] - ETA: 0s - loss: 0.0952 - acc: 0.916 - 0s 2ms/step - loss: 0.1091 - acc: 0.9020 - val_loss: 5.1222e-04 - val_acc: 1.0000\n",
      "Epoch 76/100\n",
      "102/102 [==============================] - 0s 2ms/step - loss: 0.1191 - acc: 0.9020 - val_loss: 0.0354 - val_acc: 1.0000\n",
      "Epoch 77/100\n",
      "102/102 [==============================] - 0s 2ms/step - loss: 0.1400 - acc: 0.9020 - val_loss: 2.3707e-04 - val_acc: 1.0000\n",
      "Epoch 78/100\n",
      "102/102 [==============================] - 0s 2ms/step - loss: 0.1076 - acc: 0.9020 - val_loss: 8.3706e-05 - val_acc: 1.0000\n",
      "Epoch 79/100\n",
      "102/102 [==============================] - 0s 2ms/step - loss: 0.1044 - acc: 0.9020 - val_loss: 0.0070 - val_acc: 1.0000\n",
      "Epoch 80/100\n",
      "102/102 [==============================] - 0s 2ms/step - loss: 0.1720 - acc: 0.9020 - val_loss: 0.0616 - val_acc: 1.0000\n",
      "Epoch 81/100\n",
      "102/102 [==============================] - 0s 2ms/step - loss: 0.1095 - acc: 0.9020 - val_loss: 2.9517e-05 - val_acc: 1.0000\n",
      "Epoch 82/100\n",
      "102/102 [==============================] - 0s 2ms/step - loss: 0.1609 - acc: 0.9020 - val_loss: 1.8810e-05 - val_acc: 1.0000\n",
      "Epoch 83/100\n",
      "102/102 [==============================] - 0s 2ms/step - loss: 0.1295 - acc: 0.9020 - val_loss: 0.0030 - val_acc: 1.0000\n",
      "Epoch 84/100\n",
      "102/102 [==============================] - 0s 2ms/step - loss: 0.1233 - acc: 0.9020 - val_loss: 0.0024 - val_acc: 1.0000\n",
      "Epoch 85/100\n",
      "102/102 [==============================] - 0s 2ms/step - loss: 0.0898 - acc: 0.9020 - val_loss: 7.8010e-04 - val_acc: 1.0000\n",
      "Epoch 86/100\n",
      "102/102 [==============================] - 0s 2ms/step - loss: 0.0738 - acc: 0.9020 - val_loss: 0.0038 - val_acc: 1.0000\n",
      "Epoch 87/100\n",
      "102/102 [==============================] - 0s 2ms/step - loss: 0.0840 - acc: 0.9020 - val_loss: 0.0011 - val_acc: 1.0000\n",
      "Epoch 88/100\n",
      "102/102 [==============================] - 0s 2ms/step - loss: 0.0874 - acc: 0.9020 - val_loss: 8.0149e-04 - val_acc: 1.0000\n",
      "Epoch 89/100\n",
      "102/102 [==============================] - 0s 2ms/step - loss: 0.0884 - acc: 0.9020 - val_loss: 0.0026 - val_acc: 1.0000\n",
      "Epoch 90/100\n",
      "102/102 [==============================] - 0s 2ms/step - loss: 0.0851 - acc: 0.9020 - val_loss: 0.0017 - val_acc: 1.0000\n",
      "Epoch 91/100\n",
      "102/102 [==============================] - 0s 2ms/step - loss: 0.0761 - acc: 0.9020 - val_loss: 0.0013 - val_acc: 1.0000\n",
      "Epoch 92/100\n",
      "102/102 [==============================] - 0s 2ms/step - loss: 0.0735 - acc: 0.9020 - val_loss: 0.0011 - val_acc: 1.0000\n",
      "Epoch 93/100\n",
      "102/102 [==============================] - 0s 2ms/step - loss: 0.0711 - acc: 0.9020 - val_loss: 0.0015 - val_acc: 1.0000\n",
      "Epoch 94/100\n",
      "102/102 [==============================] - 0s 2ms/step - loss: 0.0694 - acc: 0.9020 - val_loss: 0.0013 - val_acc: 1.0000\n",
      "Epoch 95/100\n",
      "102/102 [==============================] - 0s 2ms/step - loss: 0.0706 - acc: 0.9020 - val_loss: 0.0012 - val_acc: 1.0000\n",
      "Epoch 96/100\n",
      "102/102 [==============================] - 0s 2ms/step - loss: 0.0704 - acc: 0.9020 - val_loss: 0.0011 - val_acc: 1.0000\n",
      "Epoch 97/100\n",
      "102/102 [==============================] - 0s 2ms/step - loss: 0.0697 - acc: 0.9020 - val_loss: 8.8308e-04 - val_acc: 1.0000\n",
      "Epoch 98/100\n",
      "102/102 [==============================] - 0s 2ms/step - loss: 0.0700 - acc: 0.9020 - val_loss: 8.9497e-04 - val_acc: 1.0000\n",
      "Epoch 99/100\n",
      "102/102 [==============================] - 0s 2ms/step - loss: 0.0731 - acc: 0.9020 - val_loss: 0.0015 - val_acc: 1.0000\n",
      "Epoch 100/100\n",
      "102/102 [==============================] - 0s 2ms/step - loss: 0.0722 - acc: 0.9020 - val_loss: 0.0011 - val_acc: 1.0000\n"
     ]
    }
   ],
   "source": [
    "#Train the model\n",
    "history = Classifier.fit(Train_X,Train_Y,epochs=100,validation_split=0.1)"
   ]
  },
  {
   "cell_type": "code",
   "execution_count": 146,
   "metadata": {},
   "outputs": [],
   "source": [
    "#Prediction using test data\n",
    "Result=Classifier.predict(Test_X)"
   ]
  },
  {
   "cell_type": "code",
   "execution_count": 148,
   "metadata": {},
   "outputs": [
    {
     "data": {
      "image/png": "[encoded data removed]",
      "text/plain": [
       "<Figure size 432x288 with 1 Axes>"
      ]
     },
     "metadata": {
      "needs_background": "light"
     },
     "output_type": "display_data"
    }
   ],
   "source": [
    "#Predicted data plotted against temperature\n",
    "plt.scatter(X,Result,s=10,c='red')\n",
    "plt.xlabel('Temperature')\n",
    "plt.ylabel('Probablity')\n",
    "plt.show()"
   ]
  },
  {
   "cell_type": "code",
   "execution_count": 151,
   "metadata": {},
   "outputs": [],
   "source": [
    "#save the model\n",
    "Classifier.save('Classification.h5')"
   ]
  },
  {
   "cell_type": "code",
   "execution_count": null,
   "metadata": {},
   "outputs": [],
   "source": []
  }
 ],
 "metadata": {
  "kernelspec": {
   "display_name": "Python 3",
   "language": "python",
   "name": "python3"
  },
  "language_info": {
   "codemirror_mode": {
    "name": "ipython",
    "version": 3
   },
   "file_extension": ".py",
   "mimetype": "text/x-python",
   "name": "python",
   "nbconvert_exporter": "python",
   "pygments_lexer": "ipython3",
   "version": "3.6.8"
  }
 },
 "nbformat": 4,
 "nbformat_minor": 2
}
