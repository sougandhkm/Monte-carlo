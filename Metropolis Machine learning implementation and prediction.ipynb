{
 "cells": [
  {
   "cell_type": "code",
   "execution_count": 1,
   "metadata": {},
   "outputs": [
    {
     "name": "stderr",
     "output_type": "stream",
     "text": [
      "Using TensorFlow backend.\n"
     ]
    }
   ],
   "source": [
    "#importing essential libraries\n",
    "import random\n",
    "import numpy as np\n",
    "import matplotlib.pyplot as plt\n",
    "import math\n",
    "import pickle as pk\n",
    "import numba as nb\n",
    "import keras\n"
   ]
  },
  {
   "cell_type": "code",
   "execution_count": 2,
   "metadata": {},
   "outputs": [],
   "source": [
    "#Random lattice creation function\n",
    "def latticecreate(n):\n",
    "    lattice = np.random.choice(a=[-1,1],size=(n,n))\n",
    "    return lattice"
   ]
  },
  {
   "cell_type": "code",
   "execution_count": 310,
   "metadata": {},
   "outputs": [],
   "source": [
    "#metropolis algorithm with 5x 10e5\n",
    "@nb.jit(nopython=True)\n",
    "def metropolis(lattice,n,j,T):\n",
    "    mag=[]\n",
    "    steps=[]\n",
    "    for k in range (0,1000):\n",
    "        for l in range (0,500):\n",
    "            x=np.random.randint(0,n)\n",
    "            y=np.random.randint(0,n)\n",
    "            \n",
    "            nb = lattice[(x+1)%n,y] + lattice[x,(y+1)%n] + lattice[(x-1)%n,y] + lattice[x,(y-1)%n]\n",
    "            \n",
    "            deltaE=lattice[x,y]*2*nb*j\n",
    "            p=random.uniform(0,1)\n",
    "            if deltaE<0:\n",
    "                lattice[x,y]=lattice[x,y]*(-1)\n",
    "        \n",
    "            else:\n",
    "                r=math.exp((-deltaE)/(T))\n",
    "                if p<r:\n",
    "                    lattice[x,y]=lattice[x,y]*(-1)\n",
    "                else:\n",
    "                    lattice[x,y]=lattice[x,y]\n",
    "        mag.append(abs(magnetisation(lattice,n)))\n",
    "        steps.append(k*300)\n",
    " \n",
    "    return mag,steps,lattice"
   ]
  },
  {
   "cell_type": "code",
   "execution_count": 289,
   "metadata": {},
   "outputs": [],
   "source": [
    "#metropolis algorithm with 1x10e8 steps\n",
    "@nb.jit(nopython=True)\n",
    "def metropolis1(lattice,n,j,T):\n",
    "    mag=[]\n",
    "    steps=[]\n",
    "    for k in range (0,100000):\n",
    "        for l in range (0,1000):\n",
    "            x=np.random.randint(0,n)\n",
    "            y=np.random.randint(0,n)\n",
    "            \n",
    "            nb = lattice[(x+1)%n,y] + lattice[x,(y+1)%n] + lattice[(x-1)%n,y] + lattice[x,(y-1)%n]\n",
    "            \n",
    "            deltaE=lattice[x,y]*2*nb*j\n",
    "            p=random.uniform(0,1)\n",
    "            if deltaE<0:\n",
    "                lattice[x,y]=lattice[x,y]*(-1)\n",
    "        \n",
    "            else:\n",
    "                r=math.exp((-deltaE)/(T))\n",
    "                if p<r:\n",
    "                    lattice[x,y]=lattice[x,y]*(-1)\n",
    "                else:\n",
    "                    lattice[x,y]=lattice[x,y]\n",
    "        mag.append(abs(magnetisation(lattice,n)))\n",
    "        steps.append(k*300)\n",
    " \n",
    "    return mag,steps,lattice"
   ]
  },
  {
   "cell_type": "code",
   "execution_count": 290,
   "metadata": {},
   "outputs": [],
   "source": [
    "#magnetisation calculator\n",
    "@nb.jit(nopython=True)\n",
    "def magnetisation(lattice,n):\n",
    "    mag1=0\n",
    "    for i in range(0,n):\n",
    "        for j in range(0,n):\n",
    "            mag1=mag1+lattice[i,j]\n",
    "    return mag1/(n**2)"
   ]
  },
  {
   "cell_type": "code",
   "execution_count": 360,
   "metadata": {},
   "outputs": [],
   "source": [
    "#loading the model available models are -modellstm(0.1,2,3).h5\n",
    "model = keras.models.load_model('modellstm_T(0.1).h5')"
   ]
  },
  {
   "cell_type": "code",
   "execution_count": 361,
   "metadata": {},
   "outputs": [],
   "source": [
    "#creation of \n",
    "lattice=latticecreate(50)"
   ]
  },
  {
   "cell_type": "code",
   "execution_count": 362,
   "metadata": {},
   "outputs": [
    {
     "data": {
      "text/plain": [
       "<matplotlib.image.AxesImage at 0x1603cf238d0>"
      ]
     },
     "execution_count": 362,
     "metadata": {},
     "output_type": "execute_result"
    },
    {
     "data": {
      "image/png": "[encoded data removed]",
      "text/plain": [
       "<Figure size 432x288 with 1 Axes>"
      ]
     },
     "metadata": {
      "needs_background": "light"
     },
     "output_type": "display_data"
    }
   ],
   "source": [
    "plt.imshow(lattice,cmap='Greys')"
   ]
  },
  {
   "cell_type": "code",
   "execution_count": 363,
   "metadata": {},
   "outputs": [
    {
     "name": "stdout",
     "output_type": "stream",
     "text": [
      "Wall time: 6.01 s\n"
     ]
    }
   ],
   "source": [
    "%%time\n",
    "#the conventional metropolis algorithm with 10e8 steps\n",
    "mag,steps,nlattice=metropolis1(lattice.copy(),50,1,0.1)"
   ]
  },
  {
   "cell_type": "code",
   "execution_count": 364,
   "metadata": {},
   "outputs": [
    {
     "data": {
      "text/plain": [
       "<matplotlib.image.AxesImage at 0x1603d4c9fd0>"
      ]
     },
     "execution_count": 364,
     "metadata": {},
     "output_type": "execute_result"
    },
    {
     "data": {
      "image/png": "[encoded data removed]",
      "text/plain": [
       "<Figure size 432x288 with 1 Axes>"
      ]
     },
     "metadata": {
      "needs_background": "light"
     },
     "output_type": "display_data"
    }
   ],
   "source": [
    "plt.imshow(nlattice,cmap='Greys')"
   ]
  },
  {
   "cell_type": "code",
   "execution_count": 365,
   "metadata": {},
   "outputs": [
    {
     "name": "stdout",
     "output_type": "stream",
     "text": [
      "Wall time: 1.37 s\n"
     ]
    }
   ],
   "source": [
    "%%time\n",
    "#metropolis algorithm combined with machine learning model\n",
    "for i in range(0,3):\n",
    "    lattice=model.predict(lattice.reshape(1,1,(50*50)))\n",
    "    lattice=lattice.reshape(50,50)\n",
    "    f=((lattice.max()+lattice.min())/2)\n",
    "    for k in range (0,50):\n",
    "        for m in range (0,(50)):\n",
    "            if lattice[k,m]<f:\n",
    "                lattice[k,m]=-1\n",
    "            else:\n",
    "                lattice[k,m]=1\n",
    "mag,steps,lattice=metropolis(lattice,50,1,0.1)"
   ]
  },
  {
   "cell_type": "code",
   "execution_count": 366,
   "metadata": {},
   "outputs": [
    {
     "data": {
      "text/plain": [
       "<matplotlib.image.AxesImage at 0x1603d4b15c0>"
      ]
     },
     "execution_count": 366,
     "metadata": {},
     "output_type": "execute_result"
    },
    {
     "data": {
      "image/png": "[encoded data removed]",
      "text/plain": [
       "<Figure size 432x288 with 1 Axes>"
      ]
     },
     "metadata": {
      "needs_background": "light"
     },
     "output_type": "display_data"
    }
   ],
   "source": [
    "plt.imshow(lattice,cmap='Greys')"
   ]
  }
 ],
 "metadata": {
  "kernelspec": {
   "display_name": "Python 3",
   "language": "python",
   "name": "python3"
  },
  "language_info": {
   "codemirror_mode": {
    "name": "ipython",
    "version": 3
   },
   "file_extension": ".py",
   "mimetype": "text/x-python",
   "name": "python",
   "nbconvert_exporter": "python",
   "pygments_lexer": "ipython3",
   "version": "3.6.8"
  }
 },
 "nbformat": 4,
 "nbformat_minor": 2
}
