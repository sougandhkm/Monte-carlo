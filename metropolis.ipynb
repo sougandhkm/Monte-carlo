{
 "cells": [
  {
   "cell_type": "code",
   "execution_count": 3,
   "metadata": {},
   "outputs": [],
   "source": [
    "import random                                        ##importing necessary libraries\n",
    "import numpy as np\n",
    "import matplotlib.pyplot as plt\n",
    "import matplotlib.animation as anim\n",
    "import math\n",
    "import imageio\n",
    "from PIL import Image, ImageDraw, ImageFont"
   ]
  },
  {
   "cell_type": "code",
   "execution_count": 4,
   "metadata": {},
   "outputs": [],
   "source": [
    "##function to create a square lattice of n X n\n",
    "def latticecreate(n):\n",
    "    lattice = np.random.choice(a=[-1,1],size=(n,n))\n",
    "    return lattice"
   ]
  },
  {
   "cell_type": "code",
   "execution_count": 5,
   "metadata": {},
   "outputs": [],
   "source": [
    "#Hamiltonian and metropolis algorithm implemented using periodic boundary conditions\n",
    "\n",
    "def calculateenergy(lattice,n,j,T):\n",
    "    font = ImageFont.truetype('Pillow/Tests/fonts/FreeMono.ttf', 12)\n",
    "    image=[]\n",
    "    l=0\n",
    "    la=0\n",
    "    for k in range (0,n*10):\n",
    "        for l in range (0,n*10):\n",
    "            x=np.random.randint(0,n)\n",
    "            y=np.random.randint(0,n)\n",
    "            \n",
    "            nb = lattice[(x+1)%n,y] + lattice[x,(y+1)%n] + lattice[(x-1)%n,y] + lattice[x,(y-1)%n]\n",
    "            \n",
    "            deltaE=lattice[x,y]*2*nb*j\n",
    "            p=random.uniform(0,1)\n",
    "            if deltaE<0:\n",
    "                lattice[x,y]=lattice[x,y]*(-1)\n",
    "            else:\n",
    "                r=math.exp((-deltaE)/(T))\n",
    "                if p<r:\n",
    "                    lattice[x,y]=lattice[x,y]*(-1)\n",
    "                else:\n",
    "                    lattice[x,y]=lattice[x,y]\n",
    "            la=la+1\n",
    "        if l>10:\n",
    "            lu=str(la)\n",
    "            im=Image.fromarray(lattice.astype('uint8')).convert('RGBA')\n",
    "            draw = ImageDraw.Draw(im)\n",
    "            draw.text((0,0), lu,font=font,fill=(255,0,0,255))\n",
    "            image.append(im)\n",
    "            l=0\n",
    "        l=l+1    \n",
    "    return lattice,image\n",
    "                "
   ]
  },
  {
   "cell_type": "code",
   "execution_count": 6,
   "metadata": {},
   "outputs": [],
   "source": [
    "##Total energy calculator\n",
    "\n",
    "def calceenergy(config,N):\n",
    "    '''Energy of a given configuration'''\n",
    "    energy = 0\n",
    "    for i in range(len(config)):\n",
    "        for j in range(len(config)):\n",
    "            S = config[i,j]\n",
    "            nb = config[(i+1)%N, j] + config[i,(j+1)%N] + config[(i-1)%N, j] + config[i,(j-1)%N]\n",
    "            energy += -nb*S\n",
    "    return energy/4"
   ]
  },
  {
   "cell_type": "code",
   "execution_count": 19,
   "metadata": {},
   "outputs": [],
   "source": [
    "T=1\n",
    "j=1\n",
    "n=75"
   ]
  },
  {
   "cell_type": "code",
   "execution_count": 16,
   "metadata": {
    "scrolled": true
   },
   "outputs": [
    {
     "data": {
      "image/png": "[encoded data removed]",
      "text/plain": [
       "<Figure size 432x288 with 1 Axes>"
      ]
     },
     "metadata": {
      "needs_background": "light"
     },
     "output_type": "display_data"
    },
    {
     "data": {
      "image/png": "[encoded data removed]",
      "text/plain": [
       "<Figure size 432x288 with 1 Axes>"
      ]
     },
     "metadata": {
      "needs_background": "light"
     },
     "output_type": "display_data"
    },
    {
     "name": "stdout",
     "output_type": "stream",
     "text": [
      "The total energy is ,  -9242.0\n"
     ]
    }
   ],
   "source": [
    "#The snippet for one run of the algorithm\n",
    "\n",
    "lattice=latticecreate(n)\n",
    "plt.imshow(lattice, cmap=\"gray\")\n",
    "plt.show()\n",
    "newlattice,image=calculateenergy(lattice,n,j,T)\n",
    "plt.imshow(newlattice, cmap=\"gray\")\n",
    "plt.show()\n",
    "ef=calceenergy(newlattice,n)\n",
    "print(\"The total energy is , \",ef)"
   ]
  },
  {
   "cell_type": "code",
   "execution_count": 17,
   "metadata": {},
   "outputs": [],
   "source": [
    "#Run the folllowing code to save you GIF\n",
    "imageio.mimsave('100*100.gif', image)"
   ]
  },
  {
   "cell_type": "code",
   "execution_count": null,
   "metadata": {},
   "outputs": [],
   "source": [
    "#The following snippet is used to plot the relationship between Temeperature and ground state energy\n",
    "T=0.1\n",
    "Temp=[]\n",
    "energy=[]\n",
    "while T<10:\n",
    "    lattice=latticecreate(n)\n",
    "    newlattice,image=calculateenergy(lattice,n,j,T)\n",
    "    energy.append(calceenergy(newlattice,n))\n",
    "    Temp.append(T)\n",
    "    T+=0.2\n",
    "\n"
   ]
  },
  {
   "cell_type": "code",
   "execution_count": 21,
   "metadata": {},
   "outputs": [
    {
     "data": {
      "text/plain": [
       "[<matplotlib.lines.Line2D at 0x7fafe1751da0>]"
      ]
     },
     "execution_count": 21,
     "metadata": {},
     "output_type": "execute_result"
    },
    {
     "data": {
      "image/png": "[encoded data removed]",
      "text/plain": [
       "<Figure size 432x288 with 1 Axes>"
      ]
     },
     "metadata": {
      "needs_background": "light"
     },
     "output_type": "display_data"
    }
   ],
   "source": [
    "#plot the graph\n",
    "plt.xlabel('Temperature')\n",
    "plt.ylabel('Energy')\n",
    "plt.legend('75 x 75')\n",
    "plt.plot(Temp,energy)"
   ]
  },
  {
   "cell_type": "code",
   "execution_count": null,
   "metadata": {},
   "outputs": [],
   "source": []
  }
 ],
 "metadata": {
  "kernelspec": {
   "display_name": "Python 3",
   "language": "python",
   "name": "python3"
  },
  "language_info": {
   "codemirror_mode": {
    "name": "ipython",
    "version": 3
   },
   "file_extension": ".py",
   "mimetype": "text/x-python",
   "name": "python",
   "nbconvert_exporter": "python",
   "pygments_lexer": "ipython3",
   "version": "3.6.8"
  }
 },
 "nbformat": 4,
 "nbformat_minor": 2
}
