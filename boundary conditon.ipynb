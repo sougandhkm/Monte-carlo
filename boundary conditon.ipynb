{
 "cells": [
  {
   "cell_type": "code",
   "execution_count": 1,
   "metadata": {},
   "outputs": [],
   "source": [
    "import random"
   ]
  },
  {
   "cell_type": "raw",
   "metadata": {},
   "source": [
    "The following code determines the potential at points using random walk"
   ]
  },
  {
   "cell_type": "code",
   "execution_count": 3,
   "metadata": {},
   "outputs": [
    {
     "name": "stdout",
     "output_type": "stream",
     "text": [
      "the potential at teh midpoint is  3.3276\n"
     ]
    }
   ],
   "source": [
    "pot=0\n",
    "n=10000\n",
    "for i in range (0,n):\n",
    "    o=0\n",
    "    x=10\n",
    "    y=0\n",
    "    while (o==0) :\n",
    "        z=((x**2)+(y**2))**(1/2)\n",
    "        #print(x,y,z)\n",
    "        if z<=4:\n",
    "            pot=pot+2\n",
    "            o=1\n",
    "        if z>=16:\n",
    "            pot=pot+4\n",
    "            o=1\n",
    "        (dx,dy)=random.choice([(0,0.1),(0.1,0),(0,-0.1),(-0.1,0)])\n",
    "        x=x+dx\n",
    "        y=y+dy\n",
    "        \n",
    "print(\"the potential at teh midpoint is \",(pot/n))"
   ]
  },
  {
   "cell_type": "code",
   "execution_count": null,
   "metadata": {},
   "outputs": [],
   "source": []
  }
 ],
 "metadata": {
  "kernelspec": {
   "display_name": "Python 3",
   "language": "python",
   "name": "python3"
  },
  "language_info": {
   "codemirror_mode": {
    "name": "ipython",
    "version": 3
   },
   "file_extension": ".py",
   "mimetype": "text/x-python",
   "name": "python",
   "nbconvert_exporter": "python",
   "pygments_lexer": "ipython3",
   "version": "3.6.8"
  }
 },
 "nbformat": 4,
 "nbformat_minor": 2
}
