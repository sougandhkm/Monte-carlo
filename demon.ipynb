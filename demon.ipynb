{
 "cells": [
  {
   "cell_type": "raw",
   "metadata": {},
   "source": [
    "The demon algorithm is used inorder to preserve the energy \n",
    "A demon is implemented in the system which gives the lattice an extra degree of freedom"
   ]
  },
  {
   "cell_type": "code",
   "execution_count": 1,
   "metadata": {},
   "outputs": [],
   "source": [
    "import random\n",
    "import numpy as np\n",
    "import matplotlib.pyplot as plt\n",
    "import math"
   ]
  },
  {
   "cell_type": "code",
   "execution_count": 2,
   "metadata": {},
   "outputs": [],
   "source": [
    "def latticecreate(n):\n",
    "    lattice = np.random.choice(a=[-1,1],size=(n,n))\n",
    "    return lattice"
   ]
  },
  {
   "cell_type": "code",
   "execution_count": 3,
   "metadata": {},
   "outputs": [],
   "source": [
    "def calculateenergy(lattice,n,j,T,Ed,deltaEm):\n",
    "    demonE=Ed\n",
    "    steps=[]\n",
    "    deltaem=deltaEm\n",
    "    \n",
    "    l=0\n",
    "    step=0\n",
    "    for k in range (0,n*100):\n",
    "        for l in range (0,n*10):\n",
    "            x=np.random.randint(0,n)\n",
    "            y=np.random.randint(0,n)\n",
    "            \n",
    "            nb = lattice[(x+1)%n,y] + lattice[x,(y+1)%n] + lattice[(x-1)%n,y] + lattice[x,(y-1)%n]\n",
    "            \n",
    "            deltaE=lattice[x,y]*2*nb*j\n",
    "            if deltaE<=0:\n",
    "                lattice[x,y]=lattice[x,y]*(-1)\n",
    "                demonE=demonE+abs(deltaE)\n",
    "            else:\n",
    "                if demonE>=deltaE:\n",
    "                    lattice[x,y]=lattice[x,y]*(-1)\n",
    "                    demonE=demonE-deltaE\n",
    "                else:\n",
    "                    lattice[x,y]=lattice[x,y]  \n",
    "                    \n",
    "            deltaem.append(demonE)\n",
    "            #eps.append(step)\n",
    "    #lt.plot(steps,deltaem)\n",
    "    #lt.show()\n",
    "            step=step+1\n",
    "    plt.xlabel('Number')\n",
    "    plt.ylabel('Demon energy')\n",
    "    plt.hist(deltaem,bins=35)\n",
    "    plt.show()\n",
    "    print(\"No of iterations is\",step)\n",
    "    return lattice,demonE\n",
    "                "
   ]
  },
  {
   "cell_type": "code",
   "execution_count": 4,
   "metadata": {},
   "outputs": [],
   "source": [
    "def calceenergy(config,N):\n",
    "    '''Energy of a given configuration'''\n",
    "    energy = 0\n",
    "    for i in range(len(config)):\n",
    "        for j in range(len(config)):\n",
    "            S = config[i,j]\n",
    "            nb = config[(i+1)%N, j] + config[i,(j+1)%N] + config[(i-1)%N, j] + config[i,(j-1)%N]\n",
    "            energy += -nb*S\n",
    "    return energy/2"
   ]
  },
  {
   "cell_type": "code",
   "execution_count": 5,
   "metadata": {},
   "outputs": [],
   "source": [
    "T=1\n",
    "j=1\n",
    "n=50\n",
    "Ed=0.1\n",
    "deltaEm=[]"
   ]
  },
  {
   "cell_type": "code",
   "execution_count": 13,
   "metadata": {
    "scrolled": true
   },
   "outputs": [
    {
     "name": "stdout",
     "output_type": "stream",
     "text": [
      "Initial total energy of lattice -16.0\n"
     ]
    },
    {
     "data": {
      "image/png": "[encoded data removed]",
      "text/plain": [
       "<Figure size 432x288 with 1 Axes>"
      ]
     },
     "metadata": {
      "needs_background": "light"
     },
     "output_type": "display_data"
    },
    {
     "data": {
      "image/png": "[encoded data removed]",
      "text/plain": [
       "<Figure size 432x288 with 1 Axes>"
      ]
     },
     "metadata": {
      "needs_background": "light"
     },
     "output_type": "display_data"
    },
    {
     "name": "stdout",
     "output_type": "stream",
     "text": [
      "No of iterations is 2500000\n"
     ]
    },
    {
     "data": {
      "image/png": "[encoded data removed]",
      "text/plain": [
       "<Figure size 432x288 with 1 Axes>"
      ]
     },
     "metadata": {
      "needs_background": "light"
     },
     "output_type": "display_data"
    },
    {
     "name": "stdout",
     "output_type": "stream",
     "text": [
      "Total energy of lattice after iteration -16.0\n",
      "Energy pocessed by demon 0.10000000000002274\n"
     ]
    }
   ],
   "source": [
    "lattice=latticecreate(n)\n",
    "print(\"Initial total energy of lattice\",calceenergy(lattice,n))\n",
    "plt.imshow(lattice, cmap=\"gray\")\n",
    "plt.show()\n",
    "newlattice,demon=calculateenergy(lattice,n,j,T,Ed,deltaEm)\n",
    "plt.imshow(newlattice, cmap=\"gray\")\n",
    "plt.show()\n",
    "ef=calceenergy(newlattice,n)\n",
    "print(\"Total energy of lattice after iteration\",ef)\n",
    "print(\"Energy pocessed by demon\",demon)"
   ]
  },
  {
   "cell_type": "code",
   "execution_count": null,
   "metadata": {
    "scrolled": true
   },
   "outputs": [],
   "source": [
    "#This loop can be run for attaining equilibrium, But the time taken will be high\n",
    "xp=10\n",
    "while abs(xp)>3:\n",
    "    tf=calceenergy(newlattice,n)\n",
    "    newlattice,demon=calculateenergy(newlattice,n,j,T,demon,deltaEm)\n",
    "    ef=calceenergy(newlattice,n)\n",
    "    xp=tf-ef\n",
    "im = plt.imshow(newlattice, cmap=\"gray\")\n",
    "plt.show()"
   ]
  }
 ],
 "metadata": {
  "kernelspec": {
   "display_name": "Python 3",
   "language": "python",
   "name": "python3"
  },
  "language_info": {
   "codemirror_mode": {
    "name": "ipython",
    "version": 3
   },
   "file_extension": ".py",
   "mimetype": "text/x-python",
   "name": "python",
   "nbconvert_exporter": "python",
   "pygments_lexer": "ipython3",
   "version": "3.6.8"
  }
 },
 "nbformat": 4,
 "nbformat_minor": 2
}
