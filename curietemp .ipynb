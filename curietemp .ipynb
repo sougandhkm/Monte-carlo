{
 "cells": [
  {
   "cell_type": "code",
   "execution_count": 1,
   "metadata": {},
   "outputs": [],
   "source": [
    "#importing essential libraries\n",
    "import random\n",
    "import numpy as np\n",
    "import matplotlib.pyplot as plt\n",
    "import math\n",
    "import pickle as pk\n",
    "import numba as nb\n",
    "from scipy import optimize"
   ]
  },
  {
   "cell_type": "code",
   "execution_count": 2,
   "metadata": {},
   "outputs": [],
   "source": [
    "#creating lattice with random spin\n",
    "def latticecreate(n):\n",
    "    lattice = np.random.choice(a=[1],size=(n,n))\n",
    "    return lattice"
   ]
  },
  {
   "cell_type": "code",
   "execution_count": 3,
   "metadata": {},
   "outputs": [],
   "source": [
    "#metropolis algorithm , function return binders cumulant\n",
    "@nb.jit\n",
    "def calculateenergy(lattice,n,j,T):\n",
    "    T=float(T)\n",
    "    mag=0\n",
    "    mo=0\n",
    "    meg=0\n",
    "    for k in range (0,10000):\n",
    "        for l in range (0,100):\n",
    "            x=np.random.randint(0,n)\n",
    "            y=np.random.randint(0,n)\n",
    "            \n",
    "            nb = lattice[(x+1)%n,y] + lattice[x,(y+1)%n] + lattice[(x-1)%n,y] + lattice[x,(y-1)%n]\n",
    "            \n",
    "            deltaE=lattice[x,y]*2*nb*j\n",
    "            p=random.uniform(0,1)\n",
    "            if deltaE<0:\n",
    "                lattice[x,y]=lattice[x,y]*(-1)\n",
    "                mag1=magnetisation(lattice,n)\n",
    "                meg=meg+mag1**2\n",
    "                mag=mag+mag1**4\n",
    "            else:\n",
    "                r=math.exp((-deltaE)/(T))\n",
    "                if p<r:\n",
    "                    lattice[x,y]=lattice[x,y]*(-1)\n",
    "                    meg=meg+mag1**2\n",
    "                    mag=mag+mag1**4\n",
    "                else:\n",
    "                    lattice[x,y]=lattice[x,y]\n",
    "                    mag1=magnetisation(lattice,n)\n",
    "                    meg=meg+mag1**2\n",
    "                    mag=mag+mag1**4\n",
    "            mo=mo+1\n",
    "            \n",
    "       \n",
    "    meg=(meg/mo)*3\n",
    "    mag=(mag/mo)\n",
    "            \n",
    "    return (1-(mag/(meg**2)))"
   ]
  },
  {
   "cell_type": "code",
   "execution_count": 4,
   "metadata": {},
   "outputs": [],
   "source": [
    "#function calculation for magnetisation\n",
    "@nb.jit(nopython=True)\n",
    "def magnetisation(lattice,n):\n",
    "    mag1=0\n",
    "    for i in range(0,n):\n",
    "        for j in range(0,n):\n",
    "            mag1=mag1+(lattice[i,j])\n",
    "            #p=random.uniform(0,1)\n",
    "            #mag2=mag2+(lattice[i,j]**2)\n",
    "           # mag1=mag1+lattice[i,j]\n",
    "    return (mag1/(n**2))#abs(1-(mag1/(3*(mag2**2))))"
   ]
  },
  {
   "cell_type": "code",
   "execution_count": 5,
   "metadata": {},
   "outputs": [],
   "source": [
    "#fucntion to return bnders cumulant\n",
    "def maglist(n,T,j):\n",
    "    lattice1=latticecreate(n)\n",
    "    cur=calculateenergy(lattice1,n,j,T)\n",
    "    return cur"
   ]
  },
  {
   "cell_type": "code",
   "execution_count": 6,
   "metadata": {},
   "outputs": [],
   "source": [
    "#getting curie temperature for different lattices\n",
    "def curietemp(j):\n",
    "    T=1.5\n",
    "    cur4=[]\n",
    "    cur8=[]\n",
    "    cur10=[]\n",
    "    Temp=[]\n",
    "\n",
    "    while T<2.8:\n",
    "        cur4.append(maglist(4,T,j))\n",
    "        cur8.append(maglist(8,T,j))\n",
    "        cur10.append(maglist(16,T,j))\n",
    "        Temp.append(T)\n",
    "        T=T+0.001\n",
    "    return cur4,cur8,cur10,Temp"
   ]
  },
  {
   "cell_type": "code",
   "execution_count": 7,
   "metadata": {},
   "outputs": [
    {
     "name": "stdout",
     "output_type": "stream",
     "text": [
      "The plot for interaction constant = 1\n"
     ]
    },
    {
     "data": {
      "image/png": "[encoded data removed]",
      "text/plain": [
       "<Figure size 432x288 with 1 Axes>"
      ]
     },
     "metadata": {
      "needs_background": "light"
     },
     "output_type": "display_data"
    }
   ],
   "source": [
    "#running , collecting , binders cumulant for different lattices against temperature\n",
    "j=1\n",
    "cur4,cur8,cur10,Temp=curietemp(j)\n",
    "print(\"The plot for interaction constant =\",j)\n",
    "plt.plot(Temp,cur4);\n",
    "plt.plot(Temp,cur8);\n",
    "plt.plot(Temp,cur10)\n",
    "plt.xlabel(\"Temperature\")\n",
    "plt.ylabel(\"U\")\n",
    "legend=['L=4' , 'L=8', 'L=10']\n",
    "plt.legend(legend)\n",
    "plt.show()\n"
   ]
  }
 ],
 "metadata": {
  "kernelspec": {
   "display_name": "Python 3",
   "language": "python",
   "name": "python3"
  },
  "language_info": {
   "codemirror_mode": {
    "name": "ipython",
    "version": 3
   },
   "file_extension": ".py",
   "mimetype": "text/x-python",
   "name": "python",
   "nbconvert_exporter": "python",
   "pygments_lexer": "ipython3",
   "version": "3.6.8"
  }
 },
 "nbformat": 4,
 "nbformat_minor": 2
}
