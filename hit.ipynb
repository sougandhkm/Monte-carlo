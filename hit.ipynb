{
 "cells": [
  {
   "cell_type": "code",
   "execution_count": 1,
   "metadata": {},
   "outputs": [],
   "source": [
    "import random \n",
    "import matplotlib.pyplot as plt"
   ]
  },
  {
   "cell_type": "code",
   "execution_count": 14,
   "metadata": {},
   "outputs": [
    {
     "name": "stdout",
     "output_type": "stream",
     "text": [
      "The answer of integration is  0.9092156\n"
     ]
    }
   ],
   "source": [
    "n=10000000\n",
    "n0=0\n",
    "x1data=[]\n",
    "y1data=[]\n",
    "y2data=[]\n",
    "x2data=[]\n",
    "for i in range (0,n):\n",
    "    x=random.uniform(0,1)\n",
    "    z=random.uniform(0,1)\n",
    "    y=((x**10)-1)*-1\n",
    "    if z<y:\n",
    "        n0=n0+1\n",
    "        y2data.append(z)\n",
    "        x2data.append(x)\n",
    "    else:\n",
    "        y1data.append(z)\n",
    "        x1data.append(x)\n",
    "ans=n0/n\n",
    "print(\"The answer of integration is \",ans)"
   ]
  },
  {
   "cell_type": "raw",
   "metadata": {},
   "source": [
    "The following Graph shows the points fell under the curve as orange and those above as blue"
   ]
  },
  {
   "cell_type": "code",
   "execution_count": 20,
   "metadata": {},
   "outputs": [
    {
     "data": {
      "text/plain": [
       "<matplotlib.collections.PathCollection at 0x7fbee5d85cf8>"
      ]
     },
     "execution_count": 20,
     "metadata": {},
     "output_type": "execute_result"
    },
    {
     "data": {
      "image/png": "[encoded data removed]",
      "text/plain": [
       "<Figure size 432x288 with 1 Axes>"
      ]
     },
     "metadata": {
      "needs_background": "light"
     },
     "output_type": "display_data"
    }
   ],
   "source": [
    "plt.scatter(x1data,y1data)\n",
    "plt.scatter(x2data,y2data)"
   ]
  }
 ],
 "metadata": {
  "kernelspec": {
   "display_name": "Python 3",
   "language": "python",
   "name": "python3"
  },
  "language_info": {
   "codemirror_mode": {
    "name": "ipython",
    "version": 3
   },
   "file_extension": ".py",
   "mimetype": "text/x-python",
   "name": "python",
   "nbconvert_exporter": "python",
   "pygments_lexer": "ipython3",
   "version": "3.6.8"
  }
 },
 "nbformat": 4,
 "nbformat_minor": 2
}
