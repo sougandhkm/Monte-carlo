{
 "cells": [
  {
   "cell_type": "code",
   "execution_count": 1,
   "metadata": {},
   "outputs": [],
   "source": [
    "import numpy\n",
    "import random\n",
    "import matplotlib.pyplot as plt\n"
   ]
  },
  {
   "cell_type": "code",
   "execution_count": 2,
   "metadata": {},
   "outputs": [],
   "source": [
    "#The following function conducts the avoiding walk , in each step the next step is selected random and chechekd to avoid collisions\n",
    "\n",
    "def self_random_walk(x,y,lat):\n",
    "    xstep=[]\n",
    "    ystep=[]\n",
    "    l=0\n",
    "    step=0\n",
    "    for i in range (0,100000):\n",
    "        lat[x,y]=1\n",
    "        (dx,dy)=random.choice([(0,1),(0,-1),(1,0),(-1,0)])\n",
    "        xnew=x+dx\n",
    "        ynew=y+dy\n",
    "        if xnew>=len(lat) or ynew>=len(lat) or xnew<0 or ynew<0:\n",
    "            continue\n",
    "        elif lat[xnew,ynew]==1:\n",
    "         #   l=l+1\n",
    "            continue\n",
    "        else:\n",
    "            step=step+1\n",
    "            xstep.append(xnew)\n",
    "            ystep.append(ynew)\n",
    "            x=xnew\n",
    "            y=ynew\n",
    "    return lat,xstep,ystep"
   ]
  },
  {
   "cell_type": "raw",
   "metadata": {},
   "source": [
    "The following code  underatkes self avoiding random walks till a minimum of 250 steps are taken"
   ]
  },
  {
   "cell_type": "code",
   "execution_count": 9,
   "metadata": {},
   "outputs": [
    {
     "data": {
      "image/png": "[encoded data removed]",
      "text/plain": [
       "<Figure size 432x288 with 1 Axes>"
      ]
     },
     "metadata": {
      "needs_background": "light"
     },
     "output_type": "display_data"
    },
    {
     "name": "stdout",
     "output_type": "stream",
     "text": [
      "the no. of steps taken are 260\n"
     ]
    }
   ],
   "source": [
    "t=0\n",
    "tr=[]\n",
    "while t<250:\n",
    "    n=50\n",
    "    startingpoint_x=numpy.random.randint(0,n-1)\n",
    "    startingpoint_y=numpy.random.randint(0,n-1)\n",
    "    lattice=numpy.zeros((n,n))\n",
    "    newlattice,stepx,stepy=self_random_walk(startingpoint_x,startingpoint_y,lattice)\n",
    "    t=len(stepx)\n",
    "    tr.append(t)\n",
    "        \n",
    "plt.plot(stepx,stepy)\n",
    "plt.show()\n",
    "print(\"the no. of steps taken are\",t)"
   ]
  },
  {
   "cell_type": "code",
   "execution_count": 10,
   "metadata": {},
   "outputs": [
    {
     "name": "stdout",
     "output_type": "stream",
     "text": [
      "the average of stepes taken in 126 random walks is  63.69047619047619\n"
     ]
    }
   ],
   "source": [
    "hi=0\n",
    "for i in range (0,len(tr)):\n",
    "    hi=hi+tr[i]\n",
    "print(\"the average of stepes taken in\",(len(tr)),\"random walks is \",(hi/len(tr)))"
   ]
  },
  {
   "cell_type": "raw",
   "metadata": {},
   "source": [
    "The following code is run inorder to check whether the average value of walks converges to any value.."
   ]
  },
  {
   "cell_type": "code",
   "execution_count": 11,
   "metadata": {},
   "outputs": [
    {
     "name": "stdout",
     "output_type": "stream",
     "text": [
      "the average of stepes taken in 626 random walks is  62.23162939297124\n"
     ]
    }
   ],
   "source": [
    "for i in range(0,500):\n",
    "    n=50\n",
    "    startingpoint_x=numpy.random.randint(0,n-1)\n",
    "    startingpoint_y=numpy.random.randint(0,n-1)\n",
    "    lattice=numpy.zeros((n,n))\n",
    "    newlattice,stepx,stepy=self_random_walk(startingpoint_x,startingpoint_y,lattice)\n",
    "    t=len(stepx)\n",
    "    tr.append(t)\n",
    "hi=0\n",
    "for i in range (0,len(tr)):\n",
    "    hi=hi+tr[i]\n",
    "print(\"the average of stepes taken in\",(len(tr)),\"random walks is \",(hi/len(tr)))"
   ]
  },
  {
   "cell_type": "code",
   "execution_count": null,
   "metadata": {},
   "outputs": [],
   "source": []
  }
 ],
 "metadata": {
  "kernelspec": {
   "display_name": "Python 3",
   "language": "python",
   "name": "python3"
  },
  "language_info": {
   "codemirror_mode": {
    "name": "ipython",
    "version": 3
   },
   "file_extension": ".py",
   "mimetype": "text/x-python",
   "name": "python",
   "nbconvert_exporter": "python",
   "pygments_lexer": "ipython3",
   "version": "3.6.8"
  }
 },
 "nbformat": 4,
 "nbformat_minor": 2
}
