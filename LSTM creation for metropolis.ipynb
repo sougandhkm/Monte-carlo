{
 "cells": [
  {
   "cell_type": "code",
   "execution_count": null,
   "metadata": {},
   "outputs": [],
   "source": [
    "import matplotlib.pyplot as plt                                                    #import essential libraries\n",
    "import numpy as np\n",
    "import pandas as pd\n",
    "from sklearn.model_selection import train_test_split\n",
    "from sklearn.model_selection import cross_val_score\n",
    "from sklearn.model_selection import KFold\n",
    "from sklearn.pipeline import Pipeline\n",
    "from sklearn.preprocessing import MinMaxScaler\n",
    "from keras.models import Sequential\n",
    "from keras.layers import Dense,Flatten,PReLU,Dropout,LeakyReLU,LSTM\n",
    "from keras.optimizers import Adam\n",
    "from keras.wrappers.scikit_learn import KerasRegressor\n",
    "import pickle"
   ]
  },
  {
   "cell_type": "code",
   "execution_count": null,
   "metadata": {},
   "outputs": [],
   "source": [
    "import os\n",
    "path = r\"C:\\Users\\sou\\0Summerproject\\machinemontecarlo\"             #specifying path to the directory\n",
    "os.chdir(path)\n",
    "os.getcwd()"
   ]
  },
  {
   "cell_type": "code",
   "execution_count": null,
   "metadata": {},
   "outputs": [],
   "source": [
    "# Loading training data , The data should be placed in the above path\n",
    "x=pickle.load(open('trax_metro50_6000', 'rb'))                    \n",
    "y=pickle.load(open('tray_metro50_6000', 'rb'))"
   ]
  },
  {
   "cell_type": "code",
   "execution_count": null,
   "metadata": {},
   "outputs": [],
   "source": [
    "#Reshaping data from 2D to 3D\n",
    "#splitting data for train and test\n",
    "X_train, X_test, y_train, y_test = train_test_split(x, y) \n",
    "X_train=np.array(X_train)\n",
    "y_train=np.array(y_train)\n",
    "X_test=np.array(X_test)\n",
    "y_test=np.array(y_test)\n",
    "X_train=X_train.reshape(len(X_train),1,(50*50))\n",
    "X_test=X_test.reshape(len(X_test),1,(50*50))\n",
    "y_train=y_train.reshape(len(y_train),(50*50))\n",
    "y_test=y_test.reshape(len(y_test),(50*50))\n",
    "X_train=pickle.load(open('Trx_T_2_5000', 'rb'))\n",
    "Y_train=pickle.load(open('Try_T_2_5000', 'rb'))"
   ]
  },
  {
   "cell_type": "code",
   "execution_count": null,
   "metadata": {},
   "outputs": [],
   "source": [
    "#Defining the model\n",
    "adam=Adam()\n",
    "model = Sequential()\n",
    "model.add(LSTM(500, input_shape=(1, 2500),return_sequences=True))\n",
    "model.add(LSTM(100,return_sequences=False))\n",
    "model.add(Dense(2500, activation='linear'))\n",
    "model.summary()"
   ]
  },
  {
   "cell_type": "code",
   "execution_count": null,
   "metadata": {},
   "outputs": [],
   "source": [
    "#compiling model\n",
    "model.compile(loss='mse', optimizer=adam, metrics=['mse','mae'])"
   ]
  },
  {
   "cell_type": "code",
   "execution_count": null,
   "metadata": {},
   "outputs": [],
   "source": [
    "#Training themodel\n",
    "history = model.fit(X_train,Y_train, epochs=8, batch_size=64,  verbose=1, validation_split=0.5)  "
   ]
  },
  {
   "cell_type": "code",
   "execution_count": null,
   "metadata": {},
   "outputs": [],
   "source": [
    "#saving the model\n",
    "model.save('lstm.h5')"
   ]
  }
 ],
 "metadata": {
  "kernelspec": {
   "display_name": "Python 3",
   "language": "python",
   "name": "python3"
  },
  "language_info": {
   "codemirror_mode": {
    "name": "ipython",
    "version": 3
   },
   "file_extension": ".py",
   "mimetype": "text/x-python",
   "name": "python",
   "nbconvert_exporter": "python",
   "pygments_lexer": "ipython3",
   "version": "3.6.8"
  }
 },
 "nbformat": 4,
 "nbformat_minor": 2
}
