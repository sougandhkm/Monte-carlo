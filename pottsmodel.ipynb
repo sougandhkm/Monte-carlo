{
 "cells": [
  {
   "cell_type": "raw",
   "metadata": {},
   "source": [
    "potts method is used instead of ising model when there is more than two states"
   ]
  },
  {
   "cell_type": "code",
   "execution_count": 1,
   "metadata": {},
   "outputs": [],
   "source": [
    "import random\n",
    "import numpy as np\n",
    "import matplotlib.pyplot as plt\n",
    "import matplotlib.animation as anim\n",
    "import math\n",
    "import imageio\n",
    "from PIL import Image, ImageDraw, ImageFont"
   ]
  },
  {
   "cell_type": "code",
   "execution_count": 2,
   "metadata": {},
   "outputs": [],
   "source": [
    "def latticecreate(n):\n",
    "    lattice = np.random.choice(a=[1,2,3],size=(n,n))\n",
    "    return lattice"
   ]
  },
  {
   "cell_type": "code",
   "execution_count": 3,
   "metadata": {},
   "outputs": [],
   "source": [
    "def calculateenergy(lattice,n,j,T,q):\n",
    "    font = ImageFont.truetype('Pillow/Tests/fonts/FreeMono.ttf', 12)\n",
    "    image=[]\n",
    "    l=0\n",
    "    la=0\n",
    "    for k in range (0,n*10):\n",
    "        for l in range (0,n*10):\n",
    "            x=np.random.randint(0,n)\n",
    "            y=np.random.randint(0,n)\n",
    "            nb1=0\n",
    "            nb2=0\n",
    "            s=np.random.randint(1,q+1)\n",
    "            \n",
    "            if lattice[x,y]==lattice[(x+1)%n,y]:\n",
    "                nb1=nb1+(1)\n",
    "            if lattice[x,y]==lattice[x,(y+1)%n]:\n",
    "                nb1=nb1+1\n",
    "            if lattice[x,y]==lattice[(x-1)%n,y]:\n",
    "                nb1=nb1+1\n",
    "            if lattice[x,y]==lattice[x,(y-1)%n]:\n",
    "                nb1=nb1+1\n",
    "            if s==lattice[(x+1)%n,y]:\n",
    "                nb2=nb2+(1)\n",
    "            if s==lattice[x,(y+1)%n]:\n",
    "                nb2=nb2+1\n",
    "            if s==lattice[(x-1)%n,y]:\n",
    "                nb2=nb2+1\n",
    "            if s==lattice[x,(y-1)%n]:\n",
    "                nb2=nb2+1\n",
    "            deltaE=j*(nb1-nb2)\n",
    "            p=random.uniform(0,1)\n",
    "            if deltaE<0:\n",
    "                lattice[x,y]=s\n",
    "            else:\n",
    "                r=math.exp((-deltaE)/(T))\n",
    "                if p<r:\n",
    "                    lattice[x,y]=s\n",
    "        if l>10:\n",
    "            lu=str(la)\n",
    "            im=Image.fromarray((lattice*85).astype('uint8'))\n",
    "           # draw = ImageDraw.Draw(im)\n",
    "           # draw.text((0,0), lu,font=font,fill=(0,0,0,255))\n",
    "            image.append(im)\n",
    "            l=0\n",
    "        l=l+1    \n",
    "    return lattice,image\n",
    "                "
   ]
  },
  {
   "cell_type": "code",
   "execution_count": 4,
   "metadata": {},
   "outputs": [],
   "source": [
    "def calceenergy(config,N):\n",
    "    '''Energy of a given configuration'''\n",
    "    energy = 0\n",
    "    nb=0\n",
    "    for x in range(len(config)):\n",
    "        for y in range(len(config)):\n",
    "           \n",
    "            \n",
    "            if lattice[x,y]==lattice[(x+1)%n,y]:\n",
    "                nb=nb+(1*j)\n",
    "            if lattice[x,y]==lattice[x,(y+1)%n]:\n",
    "                nb=nb+(1*j)\n",
    "            if lattice[x,y]==lattice[(x-1)%n,y]:\n",
    "                nb=nb+(1*j)\n",
    "            if lattice[x,y]==lattice[x,(y-1)%n]:\n",
    "                nb=nb+(1*j)\n",
    "    energy=nb\n",
    "    return -energy/2"
   ]
  },
  {
   "cell_type": "code",
   "execution_count": 11,
   "metadata": {},
   "outputs": [],
   "source": [
    "T=0.1\n",
    "j=1\n",
    "n=75\n",
    "q=3"
   ]
  },
  {
   "cell_type": "code",
   "execution_count": 12,
   "metadata": {},
   "outputs": [
    {
     "data": {
      "image/png": "[encoded data removed]",
      "text/plain": [
       "<Figure size 432x288 with 1 Axes>"
      ]
     },
     "metadata": {
      "needs_background": "light"
     },
     "output_type": "display_data"
    },
    {
     "data": {
      "image/png": "[encoded data removed]",
      "text/plain": [
       "<Figure size 432x288 with 1 Axes>"
      ]
     },
     "metadata": {
      "needs_background": "light"
     },
     "output_type": "display_data"
    },
    {
     "name": "stdout",
     "output_type": "stream",
     "text": [
      "-10436.0\n"
     ]
    }
   ],
   "source": [
    "lattice=latticecreate(n)\n",
    "plt.imshow(lattice, cmap=\"rainbow\")\n",
    "plt.show()\n",
    "newlattice,image=calculateenergy(lattice,n,j,T,q)\n",
    "plt.imshow(newlattice, cmap=\"rainbow\")\n",
    "plt.show()\n",
    "ef=calceenergy(newlattice,n)\n",
    "print(ef)"
   ]
  },
  {
   "cell_type": "code",
   "execution_count": 13,
   "metadata": {},
   "outputs": [],
   "source": [
    "imageio.mimsave('75x75_potts.gif', image)"
   ]
  },
  {
   "cell_type": "code",
   "execution_count": 248,
   "metadata": {},
   "outputs": [],
   "source": [
    "T=0.2\n",
    "t=[]\n",
    "energy=[]\n",
    "while T<10:\n",
    "    lattice=latticecreate(n)\n",
    "    newlattice,image=calculateenergy(lattice,n,j,T,q)\n",
    "    ef=calceenergy(newlattice,n)\n",
    "    energy.append(ef)\n",
    "    t.append(T)\n",
    "    T=T+0.2"
   ]
  },
  {
   "cell_type": "code",
   "execution_count": 249,
   "metadata": {},
   "outputs": [
    {
     "data": {
      "text/plain": [
       "[<matplotlib.lines.Line2D at 0x7fdba0633780>]"
      ]
     },
     "execution_count": 249,
     "metadata": {},
     "output_type": "execute_result"
    },
    {
     "data": {
      "image/png": "[encoded data removed]",
      "text/plain": [
       "<Figure size 432x288 with 1 Axes>"
      ]
     },
     "metadata": {
      "needs_background": "light"
     },
     "output_type": "display_data"
    }
   ],
   "source": [
    "plt.plot(t,energy)"
   ]
  }
 ],
 "metadata": {
  "kernelspec": {
   "display_name": "Python 3",
   "language": "python",
   "name": "python3"
  },
  "language_info": {
   "codemirror_mode": {
    "name": "ipython",
    "version": 3
   },
   "file_extension": ".py",
   "mimetype": "text/x-python",
   "name": "python",
   "nbconvert_exporter": "python",
   "pygments_lexer": "ipython3",
   "version": "3.6.8"
  }
 },
 "nbformat": 4,
 "nbformat_minor": 2
}
